{
 "cells": [
  {
   "cell_type": "code",
   "execution_count": null,
   "id": "fbb84c01",
   "metadata": {},
   "outputs": [],
   "source": [
    "import pandas as pd\n",
    "import matplotlib as plt\n"
   ]
  },
  {
   "cell_type": "code",
   "execution_count": null,
   "id": "633411bc",
   "metadata": {},
   "outputs": [],
   "source": [
    "injuries = pd.read_csv('../data/safer-parks-accident-dataset.csv')"
   ]
  },
  {
   "cell_type": "code",
   "execution_count": null,
   "id": "201d3cf2",
   "metadata": {},
   "outputs": [],
   "source": [
    "injuries.head(50)"
   ]
  },
  {
   "cell_type": "code",
   "execution_count": null,
   "id": "ae7b63d0",
   "metadata": {},
   "outputs": [],
   "source": [
    "injuries.dtypes"
   ]
  },
  {
   "cell_type": "markdown",
   "id": "618c6303",
   "metadata": {},
   "source": [
    "### Average injuries per year?"
   ]
  },
  {
   "cell_type": "code",
   "execution_count": null,
   "id": "56c35b97",
   "metadata": {},
   "outputs": [],
   "source": [
    "injuries.groupby(injuries.year)"
   ]
  },
  {
   "cell_type": "markdown",
   "id": "7d0774f5",
   "metadata": {},
   "source": [
    "### Count of columns?"
   ]
  },
  {
   "cell_type": "code",
   "execution_count": null,
   "id": "5ecccb62",
   "metadata": {},
   "outputs": [],
   "source": [
    "manufacturer_count = injuries.manufacturer.value_counts()"
   ]
  },
  {
   "cell_type": "code",
   "execution_count": null,
   "id": "92ecdcf6",
   "metadata": {},
   "outputs": [],
   "source": [
    "manufacturer_count.head(25)"
   ]
  },
  {
   "cell_type": "code",
   "execution_count": null,
   "id": "9340b3ea",
   "metadata": {},
   "outputs": [],
   "source": [
    "device_count = injuries.device_category.value_counts()"
   ]
  },
  {
   "cell_type": "code",
   "execution_count": null,
   "id": "17f47355",
   "metadata": {},
   "outputs": [],
   "source": [
    "device_count.head(25)"
   ]
  },
  {
   "cell_type": "code",
   "execution_count": null,
   "id": "f10805ab",
   "metadata": {},
   "outputs": [],
   "source": [
    "accident_type_counts = injuries.device_type.value_counts()"
   ]
  },
  {
   "cell_type": "code",
   "execution_count": null,
   "id": "ae946732",
   "metadata": {},
   "outputs": [],
   "source": [
    "accident_type_counts.head(25)"
   ]
  },
  {
   "cell_type": "code",
   "execution_count": null,
   "id": "126af4c1",
   "metadata": {},
   "outputs": [],
   "source": [
    "business_type_counts = injuries.bus_type.value_counts()"
   ]
  },
  {
   "cell_type": "code",
   "execution_count": null,
   "id": "c06f25ba",
   "metadata": {},
   "outputs": [],
   "source": [
    "business_type_counts.head(25)"
   ]
  },
  {
   "cell_type": "markdown",
   "id": "6a3fdf53",
   "metadata": {},
   "source": [
    "df[df['ids'].str.contains('ball', na = False)]"
   ]
  },
  {
   "cell_type": "code",
   "execution_count": null,
   "id": "e13c8872",
   "metadata": {},
   "outputs": [],
   "source": [
    "injuries[injuries['injury_desc'].str.contains('Death', 'Fatality', na = False)].head()"
   ]
  },
  {
   "cell_type": "code",
   "execution_count": null,
   "id": "ac6b5f15",
   "metadata": {},
   "outputs": [],
   "source": [
    "#if business type is amusement park \n",
    "\n",
    "amusement_park_injuries = injuries.loc[injuries['bus_type'] == 'Amusement park']"
   ]
  },
  {
   "cell_type": "code",
   "execution_count": null,
   "id": "19d8c578",
   "metadata": {},
   "outputs": [],
   "source": [
    "#if injury resulted in death at amusement park \n"
   ]
  }
 ],
 "metadata": {
  "kernelspec": {
   "display_name": "Python 3 (ipykernel)",
   "language": "python",
   "name": "python3"
  },
  "language_info": {
   "codemirror_mode": {
    "name": "ipython",
    "version": 3
   },
   "file_extension": ".py",
   "mimetype": "text/x-python",
   "name": "python",
   "nbconvert_exporter": "python",
   "pygments_lexer": "ipython3",
   "version": "3.10.9"
  }
 },
 "nbformat": 4,
 "nbformat_minor": 5
}
